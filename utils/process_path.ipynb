{
 "cells": [
  {
   "cell_type": "code",
   "execution_count": 24,
   "metadata": {},
   "outputs": [
    {
     "name": "stdout",
     "output_type": "stream",
     "text": [
      "BACK 10566\n",
      "NORM 8763\n",
      "STR 10446\n",
      "TUM 14317\n",
      "ADI 10407\n",
      "MUC 8896\n",
      "MUS 13536\n",
      "LYM 11557\n",
      "DEB 11512\n"
     ]
    }
   ],
   "source": [
    "import os\n",
    "source_dir = '/mnt/sda/julie/datasets/pathology/NCT-CRC-HE-100K/NCT-CRC-HE-100K/'\n",
    "class_names = []\n",
    "class_maps = {}\n",
    "class_number = {}\n",
    "\n",
    "for i, class_dir in enumerate(os.listdir(source_dir)):\n",
    "    class_images = os.listdir(os.path.join(source_dir, class_dir)) \n",
    "    print(class_dir, len(class_images))\n",
    "    class_number[class_dir] = len(class_images)\n"
   ]
  },
  {
   "cell_type": "code",
   "execution_count": 25,
   "metadata": {},
   "outputs": [
    {
     "data": {
      "text/plain": [
       "[('TUM', 14317),\n",
       " ('MUS', 13536),\n",
       " ('LYM', 11557),\n",
       " ('DEB', 11512),\n",
       " ('BACK', 10566),\n",
       " ('STR', 10446),\n",
       " ('ADI', 10407),\n",
       " ('MUC', 8896),\n",
       " ('NORM', 8763)]"
      ]
     },
     "execution_count": 25,
     "metadata": {},
     "output_type": "execute_result"
    }
   ],
   "source": [
    "sorted_class_number = sorted(class_number.items(), key=lambda x:x[1], reverse=True)\n",
    "sorted_class_number"
   ]
  },
  {
   "cell_type": "code",
   "execution_count": 26,
   "metadata": {},
   "outputs": [],
   "source": [
    "for i, class_name in enumerate(sorted_class_number):\n",
    "    class_maps[class_name[0]] = i"
   ]
  },
  {
   "cell_type": "code",
   "execution_count": 28,
   "metadata": {},
   "outputs": [
    {
     "name": "stdout",
     "output_type": "stream",
     "text": [
      "Imbalance Ratio 100: [10000, 5623, 3162, 1778, 1000, 562, 316, 178, 100] - Total Instances: 22719\n",
      "Imbalance Ratio 200: [10000, 5157, 2659, 1371, 707, 365, 188, 97, 50] - Total Instances: 20594\n",
      "Imbalance Ratio 500: [10000, 4599, 2115, 972, 447, 206, 95, 43, 20] - Total Instances: 18497\n"
     ]
    }
   ],
   "source": [
    "def generate_pareto_distribution(largest_class_size, num_classes, imbalance_ratio):\n",
    "    smallest_class_size = largest_class_size / imbalance_ratio\n",
    "    \n",
    "    # Calculate the ratio factor for the geometric series\n",
    "    factor = (largest_class_size / smallest_class_size)**(1 / (num_classes - 1))\n",
    "    \n",
    "    class_instances = [round(largest_class_size / (factor**i)) for i in range(num_classes)]\n",
    "    \n",
    "    # Ensure the largest class has the exact number of instances\n",
    "    class_instances[0] = largest_class_size\n",
    "    \n",
    "    return class_instances\n",
    "\n",
    "# Parameters\n",
    "largest_class_size = 10000\n",
    "num_classes = 9\n",
    "imbalance_ratios = [100, 200, 500]\n",
    "\n",
    "# Generate distributions for different imbalance ratios\n",
    "distributions = []\n",
    "for ir in imbalance_ratios:\n",
    "    distribution = generate_pareto_distribution(largest_class_size, num_classes, ir)\n",
    "    distributions.append(distribution)\n",
    "    print(f\"Imbalance Ratio {ir}: {distribution} - Total Instances: {sum(distribution)}\")\n",
    "import random\n",
    "seed = 1\n",
    "random.seed(seed)\n",
    "train_samples = [[] for i in range(3)]\n",
    "val_samples = [[] for i in range(3)]\n",
    "test_samples = [[] for i in range(3)]\n",
    "\n",
    "for z in range(len(imbalance_ratios)):\n",
    "    ir = imbalance_ratios[z]\n",
    "    distribution = distributions[z]\n",
    "    for i, class_dir in enumerate(os.listdir(source_dir)):\n",
    "        class_images = os.listdir(os.path.join(source_dir, class_dir)) \n",
    "        random.shuffle(class_images)\n",
    "        train_s = class_images[:distribution[class_maps[class_dir]]]\n",
    "        val_s = class_images[distribution[class_maps[class_dir]]:distribution[class_maps[class_dir]]+500]\n",
    "        test_s = class_images[distribution[class_maps[class_dir]]+500:distribution[class_maps[class_dir]]+1000]\n",
    "        train_samples[z].extend(['%s/%s' %(class_dir, s) for s in train_s])\n",
    "        val_samples[z].extend(['%s/%s' %(class_dir, s) for s in val_s])\n",
    "        test_samples[z].extend(['%s/%s' %(class_dir, s) for s in test_s])\n"
   ]
  },
  {
   "cell_type": "code",
   "execution_count": 31,
   "metadata": {},
   "outputs": [],
   "source": [
    "dic = {}\n",
    "for i, class_dir in enumerate(os.listdir(source_dir)):\n",
    "    class_images = os.listdir(os.path.join(source_dir, class_dir)) \n",
    "    for s in class_images:\n",
    "        dic['%s/%s' %(class_dir, s)] = class_maps[class_dir]"
   ]
  },
  {
   "cell_type": "code",
   "execution_count": 34,
   "metadata": {},
   "outputs": [],
   "source": [
    "import numpy as np\n",
    "for z in range(len(imbalance_ratios)):\n",
    "    np.save('../numpy/nct/train_%s.npy' %(imbalance_ratios[z]), train_samples[z])\n",
    "    np.save('../numpy/nct/val_%s.npy' %(imbalance_ratios[z]), val_samples[z])\n",
    "    np.save('../numpy/nct/test_%s.npy' %(imbalance_ratios[z]), test_samples[z])\n",
    "np.save('../numpy/nct/dic.npy', dic)"
   ]
  },
  {
   "cell_type": "code",
   "execution_count": 35,
   "metadata": {},
   "outputs": [],
   "source": [
    "source_dir = '/mnt/sda/julie/projects/OpenMedLongTailed/configs/nct/100/'\n",
    "for configs in os.listdir(source_dir):\n",
    "    os.system('mv '+source_dir+configs+' '+source_dir+configs.replace('isic', 'nct'))"
   ]
  },
  {
   "cell_type": "code",
   "execution_count": null,
   "metadata": {},
   "outputs": [],
   "source": []
  }
 ],
 "metadata": {
  "language_info": {
   "name": "python"
  }
 },
 "nbformat": 4,
 "nbformat_minor": 2
}
