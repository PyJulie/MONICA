{
 "cells": [
  {
   "cell_type": "code",
   "execution_count": 5,
   "metadata": {},
   "outputs": [
    {
     "name": "stdout",
     "output_type": "stream",
     "text": [
      "dyed-resection-margins 989\n",
      "dyed-lifted-polyps 1002\n",
      "ulcerative-colitis-grade-1-2 11\n",
      "polyps 1028\n",
      "ulcerative-colitis-grade-0-1 35\n",
      "ulcerative-colitis-grade-3 133\n",
      "hemorrhoids 6\n",
      "ulcerative-colitis-grade-2 443\n",
      "ulcerative-colitis-grade-2-3 28\n",
      "ulcerative-colitis-grade-1 201\n",
      "impacted-stool 131\n",
      "bbps-0-1 646\n",
      "bbps-2-3 1148\n",
      "ileum 9\n",
      "retroflex-rectum 391\n",
      "cecum 1009\n",
      "barretts 41\n",
      "esophagitis-b-d 260\n",
      "barretts-short-segment 53\n",
      "esophagitis-a 403\n",
      "z-line 932\n",
      "pylorus 999\n",
      "retroflex-stomach 764\n"
     ]
    }
   ],
   "source": [
    "import os\n",
    "source_dir = '/mnt/sda/julie/datasets/gastrointestinal/labeled-images/'\n",
    "class_names = []\n",
    "class_maps = {}\n",
    "class_number = {}\n",
    "\n",
    "for i, class_dir in enumerate(os.listdir(source_dir)):\n",
    "    if not os.path.isdir(os.path.join(source_dir, class_dir)):\n",
    "        continue\n",
    "    #print(class_dir)\n",
    "    sub_dir = os.path.join(source_dir, class_dir)\n",
    "    #print(sub_dir)\n",
    "    for _sub_dir in os.listdir(sub_dir):\n",
    "        sub_sub_dir = os.path.join(sub_dir, _sub_dir)\n",
    "        for _sub_sub_dir in os.listdir(sub_sub_dir):\n",
    "            class_images = os.listdir(os.path.join(sub_sub_dir, _sub_sub_dir)) \n",
    "            print(_sub_sub_dir, len(class_images))\n",
    "            class_number[_sub_sub_dir] = len(class_images)\n"
   ]
  },
  {
   "cell_type": "code",
   "execution_count": 6,
   "metadata": {},
   "outputs": [
    {
     "name": "stdout",
     "output_type": "stream",
     "text": [
      "[('bbps-2-3', 1148), ('polyps', 1028), ('cecum', 1009), ('dyed-lifted-polyps', 1002), ('pylorus', 999), ('dyed-resection-margins', 989), ('z-line', 932), ('retroflex-stomach', 764), ('bbps-0-1', 646), ('ulcerative-colitis-grade-2', 443), ('esophagitis-a', 403), ('retroflex-rectum', 391), ('esophagitis-b-d', 260), ('ulcerative-colitis-grade-1', 201), ('ulcerative-colitis-grade-3', 133), ('impacted-stool', 131), ('barretts-short-segment', 53), ('barretts', 41), ('ulcerative-colitis-grade-0-1', 35), ('ulcerative-colitis-grade-2-3', 28), ('ulcerative-colitis-grade-1-2', 11), ('ileum', 9), ('hemorrhoids', 6)]\n",
      "[('bbps-2-3', 1148), ('polyps', 1028), ('cecum', 1009), ('dyed-lifted-polyps', 1002), ('pylorus', 999), ('dyed-resection-margins', 989), ('z-line', 932), ('retroflex-stomach', 764), ('bbps-0-1', 646), ('ulcerative-colitis-grade-2', 443), ('esophagitis-a', 403), ('retroflex-rectum', 391), ('esophagitis-b-d', 260), ('ulcerative-colitis-grade-1', 201)]\n"
     ]
    }
   ],
   "source": [
    "sorted_class_number = sorted(class_number.items(), key=lambda x:x[1], reverse=True)\n",
    "print(sorted_class_number)\n",
    "sorted_class_number = sorted_class_number[:14]\n",
    "print(sorted_class_number)"
   ]
  },
  {
   "cell_type": "code",
   "execution_count": 7,
   "metadata": {},
   "outputs": [],
   "source": [
    "for i, class_name in enumerate(sorted_class_number):\n",
    "    class_maps[class_name[0]] = i"
   ]
  },
  {
   "cell_type": "code",
   "execution_count": 11,
   "metadata": {},
   "outputs": [
    {
     "name": "stdout",
     "output_type": "stream",
     "text": [
      "Imbalance Ratio 20: [998, 793, 629, 500, 397, 315, 250, 199, 158, 125, 100, 79, 63, 50] - Total Instances: 4656\n"
     ]
    }
   ],
   "source": [
    "def generate_pareto_distribution(largest_class_size, num_classes, imbalance_ratio):\n",
    "    smallest_class_size = largest_class_size / imbalance_ratio\n",
    "    \n",
    "    # Calculate the ratio factor for the geometric series\n",
    "    factor = (largest_class_size / smallest_class_size)**(1 / (num_classes - 1))\n",
    "    \n",
    "    class_instances = [round(largest_class_size / (factor**i)) for i in range(num_classes)]\n",
    "    \n",
    "    # Ensure the largest class has the exact number of instances\n",
    "    class_instances[0] = largest_class_size\n",
    "    \n",
    "    return class_instances\n",
    "\n",
    "# Parameters\n",
    "largest_class_size = 998\n",
    "num_classes = 14\n",
    "imbalance_ratios = [20]\n",
    "\n",
    "# Generate distributions for different imbalance ratios\n",
    "distributions = []\n",
    "for ir in imbalance_ratios:\n",
    "    distribution = generate_pareto_distribution(largest_class_size, num_classes, ir)\n",
    "    distributions.extend(distribution)\n",
    "    print(f\"Imbalance Ratio {ir}: {distribution} - Total Instances: {sum(distribution)}\")"
   ]
  },
  {
   "cell_type": "code",
   "execution_count": 12,
   "metadata": {},
   "outputs": [
    {
     "data": {
      "text/plain": [
       "[998, 793, 629, 500, 397, 315, 250, 199, 158, 125, 100, 79, 63, 50]"
      ]
     },
     "execution_count": 12,
     "metadata": {},
     "output_type": "execute_result"
    }
   ],
   "source": [
    "distributions"
   ]
  },
  {
   "cell_type": "code",
   "execution_count": 13,
   "metadata": {},
   "outputs": [],
   "source": [
    "import random\n",
    "seed = 1\n",
    "random.seed(seed)\n",
    "train_samples = []\n",
    "val_samples = []\n",
    "test_samples = []\n",
    "\n",
    "\n",
    "for i, class_dir in enumerate(os.listdir(source_dir)):\n",
    "    if not os.path.isdir(os.path.join(source_dir, class_dir)):\n",
    "        continue\n",
    "    #print(class_dir)\n",
    "    sub_dir = os.path.join(source_dir, class_dir)\n",
    "    #print(sub_dir)\n",
    "    for _sub_dir in os.listdir(sub_dir):\n",
    "        sub_sub_dir = os.path.join(sub_dir, _sub_dir)\n",
    "        for _sub_sub_dir in os.listdir(sub_sub_dir):\n",
    "            class_images = os.listdir(os.path.join(sub_sub_dir, _sub_sub_dir)) \n",
    "            if _sub_sub_dir not in class_maps.keys():\n",
    "                continue\n",
    "            random.shuffle(class_images)\n",
    "            train_s = class_images[:distributions[class_maps[_sub_sub_dir]]]\n",
    "            val_s = class_images[distributions[class_maps[_sub_sub_dir]]:distributions[class_maps[_sub_sub_dir]]+50]\n",
    "            test_s = class_images[distributions[class_maps[_sub_sub_dir]]+50:distributions[class_maps[_sub_sub_dir]]+150]\n",
    "            train_samples.extend(['%s/%s/%s/%s' %(class_dir, _sub_dir, _sub_sub_dir, s) for s in train_s])\n",
    "            val_samples.extend(['%s/%s/%s/%s' %(class_dir, _sub_dir, _sub_sub_dir, s) for s in val_s])\n",
    "            test_samples.extend(['%s/%s/%s/%s' %(class_dir, _sub_dir, _sub_sub_dir, s) for s in test_s])\n"
   ]
  },
  {
   "cell_type": "code",
   "execution_count": 14,
   "metadata": {},
   "outputs": [
    {
     "data": {
      "text/plain": [
       "(4656, 700, 1400)"
      ]
     },
     "execution_count": 14,
     "metadata": {},
     "output_type": "execute_result"
    }
   ],
   "source": [
    "len(train_samples), len(val_samples), len(test_samples)"
   ]
  },
  {
   "cell_type": "code",
   "execution_count": 15,
   "metadata": {},
   "outputs": [],
   "source": [
    "dic = {}\n",
    "for i, class_dir in enumerate(os.listdir(source_dir)):\n",
    "    if not os.path.isdir(os.path.join(source_dir, class_dir)):\n",
    "        continue\n",
    "    #print(class_dir)\n",
    "    sub_dir = os.path.join(source_dir, class_dir)\n",
    "    #print(sub_dir)\n",
    "    for _sub_dir in os.listdir(sub_dir):\n",
    "        sub_sub_dir = os.path.join(sub_dir, _sub_dir)\n",
    "        for _sub_sub_dir in os.listdir(sub_sub_dir):\n",
    "            class_images = os.listdir(os.path.join(sub_sub_dir, _sub_sub_dir)) \n",
    "            if _sub_sub_dir not in class_maps.keys():\n",
    "                continue\n",
    "            for s in class_images:\n",
    "                dic['%s/%s/%s/%s' %(class_dir, _sub_dir, _sub_sub_dir, s)] = class_maps[_sub_sub_dir]"
   ]
  },
  {
   "cell_type": "code",
   "execution_count": null,
   "metadata": {},
   "outputs": [],
   "source": []
  },
  {
   "cell_type": "code",
   "execution_count": 16,
   "metadata": {},
   "outputs": [],
   "source": [
    "import numpy as np\n",
    "np.save('../numpy/kvasir/train_20.npy' , train_samples)\n",
    "np.save('../numpy/kvasir/val_20.npy', val_samples)\n",
    "np.save('../numpy/kvasir/test_20.npy', test_samples)\n",
    "np.save('../numpy/kvasir/dic.npy', dic)"
   ]
  },
  {
   "cell_type": "code",
   "execution_count": 31,
   "metadata": {},
   "outputs": [],
   "source": [
    "source_dir = '/mnt/sda/julie/projects/OpenMedLongTailed/configs/kvasir/20/'\n",
    "for configs in os.listdir(source_dir):\n",
    "    os.system('mv '+source_dir+configs+' '+source_dir+configs.replace('isic', 'kvasir'))"
   ]
  },
  {
   "cell_type": "code",
   "execution_count": 8,
   "metadata": {},
   "outputs": [
    {
     "name": "stdout",
     "output_type": "stream",
     "text": [
      "nct test_500.npy\n",
      "4500\n",
      "nct test_200.npy\n",
      "4500\n",
      "nct test_100.npy\n",
      "4500\n",
      "medmnist organamnist_test.npy\n",
      "17778\n",
      "medmnist tissuemnist_test.npy\n",
      "47280\n",
      "medmnist pathmnist_test.npy\n",
      "7180\n",
      "medmnist organsmnist_test.npy\n",
      "8827\n",
      "medmnist bloodmnist_test.npy\n",
      "3421\n",
      "medmnist organcmnist_test.npy\n",
      "8216\n",
      "medmnist dermamnist_test.npy\n",
      "2005\n",
      "kvasir test_20.npy\n",
      "1400\n",
      "isic test_500.npy\n",
      "800\n",
      "isic test_200.npy\n",
      "800\n",
      "isic test.npy\n",
      "5229\n",
      "isic test_100.npy\n",
      "800\n"
     ]
    }
   ],
   "source": [
    "import os\n",
    "import numpy as np\n",
    "for dataset in os.listdir('../numpy/'):\n",
    "    sub_dir = '../numpy/%s/' %dataset\n",
    "    for file_name in os.listdir(sub_dir):\n",
    "        if 'test' in file_name:\n",
    "            train_file = np.load(sub_dir+file_name)\n",
    "            print(dataset, file_name)\n",
    "            print(len(train_file.tolist()))"
   ]
  },
  {
   "cell_type": "code",
   "execution_count": 3,
   "metadata": {},
   "outputs": [],
   "source": [
    "valid_accuracy = [0.4, 0.5, 0.3, 0]\n",
    "valid_accuracy = [min(valid_accuracy) if x == 0 else x for x in valid_accuracy]"
   ]
  },
  {
   "cell_type": "code",
   "execution_count": 4,
   "metadata": {},
   "outputs": [
    {
     "data": {
      "text/plain": [
       "[0.4, 0.5, 0.3, 0]"
      ]
     },
     "execution_count": 4,
     "metadata": {},
     "output_type": "execute_result"
    }
   ],
   "source": [
    "valid_accuracy"
   ]
  },
  {
   "cell_type": "code",
   "execution_count": 6,
   "metadata": {},
   "outputs": [
    {
     "data": {
      "text/plain": [
       "True"
      ]
     },
     "execution_count": 6,
     "metadata": {},
     "output_type": "execute_result"
    }
   ],
   "source": [
    "0.0 == 0"
   ]
  },
  {
   "cell_type": "code",
   "execution_count": null,
   "metadata": {},
   "outputs": [],
   "source": []
  }
 ],
 "metadata": {
  "kernelspec": {
   "display_name": "base",
   "language": "python",
   "name": "python3"
  },
  "language_info": {
   "codemirror_mode": {
    "name": "ipython",
    "version": 3
   },
   "file_extension": ".py",
   "mimetype": "text/x-python",
   "name": "python",
   "nbconvert_exporter": "python",
   "pygments_lexer": "ipython3",
   "version": "3.12.4"
  }
 },
 "nbformat": 4,
 "nbformat_minor": 2
}
